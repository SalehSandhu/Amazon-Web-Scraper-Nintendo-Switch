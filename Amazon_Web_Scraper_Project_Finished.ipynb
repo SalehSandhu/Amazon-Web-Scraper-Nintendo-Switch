{
 "cells": [
  {
   "cell_type": "code",
   "execution_count": 68,
   "id": "506d3fa7",
   "metadata": {},
   "outputs": [],
   "source": [
    "# import libraries \n",
    "\n",
    "from bs4 import BeautifulSoup\n",
    "import requests\n",
    "import smtplib\n",
    "import time\n",
    "import datetime\n",
    "import csv\n",
    "import pandas as pd"
   ]
  },
  {
   "cell_type": "code",
   "execution_count": 60,
   "id": "067b705c",
   "metadata": {},
   "outputs": [
    {
     "name": "stdout",
     "output_type": "stream",
     "text": [
      "Nintendo Switch (Neon Red/Neon blue)\n",
      "256.95\n"
     ]
    }
   ],
   "source": [
    "# connect to website\n",
    "\n",
    "URL = 'https://www.amazon.co.uk/Nintendo-Switch-Neon-Red-blue/dp/B0BJ35S9MQ/ref=sr_1_3?keywords=nintendo%2Bswitch&qid=1679925074&sprefix=nintendo%2Bs%2Caps%2C73&sr=8-3&th=1'\n",
    "\n",
    "headers = {\"User-Agent\": \"Mozilla/5.0 (Windows NT 10.0; Win64; x64; rv:109.0) Gecko/20100101 Firefox/111.0\"}\n",
    "\n",
    "page = requests.get(URL, headers=headers)\n",
    "\n",
    "soup1 = BeautifulSoup(page.content, \"html.parser\")\n",
    "\n",
    "soup2 = BeautifulSoup(soup1.prettify(), \"html.parser\")\n",
    "\n",
    "title = soup2.find(id='productTitle').get_text().strip()\n",
    "\n",
    "price = soup2.find(\"span\", attrs={\"class\" : 'a-price aok-align-center reinventPricePriceToPayMargin priceToPay'}).find(\"span\", attrs={\"class\" : 'a-offscreen'}).text.strip()[1:]\n",
    "\n",
    "print(title)\n",
    "print(price)"
   ]
  },
  {
   "cell_type": "code",
   "execution_count": 63,
   "id": "4ac8c895",
   "metadata": {},
   "outputs": [],
   "source": [
    "#creating csv file\n",
    "\n",
    "header = ['Title', 'Price']\n",
    "data = [title, price]\n",
    "\n",
    "with open('AmazonWebScraperDataset.csv', 'w', newline='', encoding='UTF8') as f:\n",
    "    writer = csv.writer(f)\n",
    "    writer.writerow(header)\n",
    "    writer.writerow(data)\n"
   ]
  },
  {
   "cell_type": "code",
   "execution_count": 73,
   "id": "710de7b0",
   "metadata": {},
   "outputs": [
    {
     "name": "stdout",
     "output_type": "stream",
     "text": [
      "                                  Title   Price\n",
      "0  Nintendo Switch (Neon Red/Neon blue)  256.95\n"
     ]
    }
   ],
   "source": [
    "#understanding a bit of pandas\n",
    "df = pd.read_csv(r'C:\\Users\\saleh\\AmazonWebScraperDataset.csv')\n",
    "print(df)"
   ]
  },
  {
   "cell_type": "code",
   "execution_count": null,
   "id": "7498bb36",
   "metadata": {},
   "outputs": [],
   "source": [
    "# appending to csv\n",
    "\n",
    "with open('AmazonWebScraperDataset.csv', 'a+', newline='', encoding='UTF8') as f:\n",
    "    writer = csv.writer(f)\n",
    "    writer.writerow(data)"
   ]
  },
  {
   "cell_type": "code",
   "execution_count": 72,
   "id": "f136ff39",
   "metadata": {},
   "outputs": [],
   "source": [
    "#creating function to put it all in one place\n",
    "def check_price():\n",
    "    URL = 'https://www.amazon.co.uk/Nintendo-Switch-Neon-Red-blue/dp/B0BJ35S9MQ/ref=sr_1_3?keywords=nintendo%2Bswitch&qid=1679925074&sprefix=nintendo%2Bs%2Caps%2C73&sr=8-3&th=1'\n",
    "\n",
    "    headers = {\"User-Agent\": \"Mozilla/5.0 (Windows NT 10.0; Win64; x64; rv:109.0) Gecko/20100101 Firefox/111.0\"}\n",
    "\n",
    "    page = requests.get(URL, headers=headers)\n",
    "\n",
    "    soup1 = BeautifulSoup(page.content, \"html.parser\")\n",
    "\n",
    "    soup2 = BeautifulSoup(soup1.prettify(), \"html.parser\")\n",
    "\n",
    "    title = soup2.find(id='productTitle').get_text().strip()\n",
    "\n",
    "    price = soup2.find(\"span\", attrs={\"class\" : 'a-price aok-align-center reinventPricePriceToPayMargin priceToPay'}).find(\"span\", attrs={\"class\" : 'a-offscreen'}).text.strip()[1:]\n",
    "\n",
    "    data = [title, price]\n",
    "    \n",
    "    with open('AmazonWebScraperDataset.csv', 'a+', newline='', encoding='UTF8') as f:\n",
    "        writer = csv.writer(f)\n",
    "        writer.writerow(data)"
   ]
  },
  {
   "cell_type": "code",
   "execution_count": null,
   "id": "37d6e6ac",
   "metadata": {},
   "outputs": [],
   "source": [
    "#automating project to check everday for price changes\n",
    "while(True):\n",
    "    check_price()\n",
    "    time.sleep(86400)"
   ]
  },
  {
   "cell_type": "code",
   "execution_count": 75,
   "id": "ba6b6420",
   "metadata": {},
   "outputs": [
    {
     "name": "stdout",
     "output_type": "stream",
     "text": [
      "                                  Title   Price\n",
      "0  Nintendo Switch (Neon Red/Neon blue)  256.95\n",
      "1  Nintendo Switch (Neon Red/Neon blue)  254.43\n",
      "2  Nintendo Switch (Neon Red/Neon blue)  254.43\n"
     ]
    }
   ],
   "source": [
    "#found a price change within a day\n",
    "df = pd.read_csv(r'C:\\Users\\saleh\\AmazonWebScraperDataset.csv')\n",
    "print(df)"
   ]
  },
  {
   "cell_type": "code",
   "execution_count": null,
   "id": "40fadd27",
   "metadata": {},
   "outputs": [],
   "source": []
  }
 ],
 "metadata": {
  "kernelspec": {
   "display_name": "Python 3 (ipykernel)",
   "language": "python",
   "name": "python3"
  },
  "language_info": {
   "codemirror_mode": {
    "name": "ipython",
    "version": 3
   },
   "file_extension": ".py",
   "mimetype": "text/x-python",
   "name": "python",
   "nbconvert_exporter": "python",
   "pygments_lexer": "ipython3",
   "version": "3.10.9"
  }
 },
 "nbformat": 4,
 "nbformat_minor": 5
}
